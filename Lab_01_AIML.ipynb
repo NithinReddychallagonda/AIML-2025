{
  "nbformat": 4,
  "nbformat_minor": 0,
  "metadata": {
    "colab": {
      "provenance": [],
      "authorship_tag": "ABX9TyMJwVnbh3vpJVkdlQI8YNCM",
      "include_colab_link": true
    },
    "kernelspec": {
      "name": "python3",
      "display_name": "Python 3"
    },
    "language_info": {
      "name": "python"
    }
  },
  "cells": [
    {
      "cell_type": "markdown",
      "metadata": {
        "id": "view-in-github",
        "colab_type": "text"
      },
      "source": [
        "<a href=\"https://colab.research.google.com/github/NithinReddychallagonda/AIML-2025/blob/main/Lab_01_AIML.ipynb\" target=\"_parent\"><img src=\"https://colab.research.google.com/assets/colab-badge.svg\" alt=\"Open In Colab\"/></a>"
      ]
    },
    {
      "cell_type": "code",
      "execution_count": 1,
      "metadata": {
        "colab": {
          "base_uri": "https://localhost:8080/"
        },
        "id": "pfIgrEdhmCpP",
        "outputId": "01349563-c6f4-42a2-e541-30ab11b73438"
      },
      "outputs": [
        {
          "output_type": "execute_result",
          "data": {
            "text/plain": [
              "(list, numpy.ndarray, numpy.ndarray)"
            ]
          },
          "metadata": {},
          "execution_count": 1
        }
      ],
      "source": [
        "import numpy as np\n",
        "import matplotlib.pyplot as plt\n",
        "import pandas as pd\n",
        "\n",
        "List1=[1,2,3,4]\n",
        "array1 = np.array(List1)\n",
        "array1\n",
        "array2= np.array([1,2,3,4])\n",
        "List1,array1,array2\n",
        "type(List1),type(array1),type(array2)"
      ]
    },
    {
      "cell_type": "code",
      "source": [
        "print(f\"Sine value of array1:{np.sin(array1)}\")\n",
        "print(f\"Log value of array1:{np.log(array1)}\")\n",
        "print(f\"Log base 2 value of array1:{np.log2(array1)}\")\n",
        "print(f\"Log base 10 value of array1:{np.log10(array1)}\")\n",
        "print(f\"Exponential value of array1:{np.exp(array1)}\")"
      ],
      "metadata": {
        "colab": {
          "base_uri": "https://localhost:8080/"
        },
        "id": "EgX0kPs2srNh",
        "outputId": "9731a970-38f6-4f56-9623-8cae1ce295e6"
      },
      "execution_count": 2,
      "outputs": [
        {
          "output_type": "stream",
          "name": "stdout",
          "text": [
            "Sine value of array1:[ 0.84147098  0.90929743  0.14112001 -0.7568025 ]\n",
            "Log value of array1:[0.         0.69314718 1.09861229 1.38629436]\n",
            "Log base 2 value of array1:[0.        1.        1.5849625 2.       ]\n",
            "Log base 10 value of array1:[0.         0.30103    0.47712125 0.60205999]\n",
            "Exponential value of array1:[ 2.71828183  7.3890561  20.08553692 54.59815003]\n"
          ]
        }
      ]
    },
    {
      "cell_type": "code",
      "source": [
        "Add:array1+array2\n",
        "Sub:array1-array2\n",
        "Mul:array1*array2\n",
        "Div:array1/array2\n",
        "print(f\"Adding{array1} with {array2}\")\n",
        "print(f\"Result:{np.add(array1,array2)}\")"
      ],
      "metadata": {
        "colab": {
          "base_uri": "https://localhost:8080/"
        },
        "id": "tZKovBg7tjne",
        "outputId": "6d9c62fc-be43-4d1f-aba9-573968b86aad"
      },
      "execution_count": 3,
      "outputs": [
        {
          "output_type": "stream",
          "name": "stdout",
          "text": [
            "Adding[1 2 3 4] with [1 2 3 4]\n",
            "Result:[2 4 6 8]\n"
          ]
        }
      ]
    },
    {
      "cell_type": "code",
      "source": [
        "people =['sai','rohan','nithin','shashank']\n",
        "age = [12,18,19,21]\n",
        "weight = [65,50,56,65]\n",
        "height=[145,168,171,175]"
      ],
      "metadata": {
        "id": "D_LX69uLvHEo"
      },
      "execution_count": 5,
      "outputs": []
    },
    {
      "cell_type": "code",
      "source": [],
      "metadata": {
        "id": "NGZc0C6Zvo0q"
      },
      "execution_count": null,
      "outputs": []
    }
  ]
}